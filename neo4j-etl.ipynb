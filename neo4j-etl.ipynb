{
 "cells": [
  {
   "cell_type": "code",
   "execution_count": 2,
   "id": "b6ab3c67-c38a-4102-8934-85004e267121",
   "metadata": {},
   "outputs": [],
   "source": [
    "import pandas as pd"
   ]
  },
  {
   "cell_type": "code",
   "execution_count": 3,
   "id": "a0cab96b-68fb-4cb8-9ccc-309f80caf2d5",
   "metadata": {},
   "outputs": [],
   "source": [
    "df = pd.read_csv('crypto.csv', dtype=object)"
   ]
  },
  {
   "cell_type": "code",
   "execution_count": null,
   "id": "0e969c43-fade-43f9-b0e6-3f38b6ea5944",
   "metadata": {},
   "outputs": [
    {
     "data": {
      "text/html": [
       "<div>\n",
       "<style scoped>\n",
       "    .dataframe tbody tr th:only-of-type {\n",
       "        vertical-align: middle;\n",
       "    }\n",
       "\n",
       "    .dataframe tbody tr th {\n",
       "        vertical-align: top;\n",
       "    }\n",
       "\n",
       "    .dataframe thead th {\n",
       "        text-align: right;\n",
       "    }\n",
       "</style>\n",
       "<table border=\"1\" class=\"dataframe\">\n",
       "  <thead>\n",
       "    <tr style=\"text-align: right;\">\n",
       "      <th></th>\n",
       "      <th>Unnamed: 0</th>\n",
       "      <th>created_at</th>\n",
       "      <th>id</th>\n",
       "      <th>id_str</th>\n",
       "      <th>text</th>\n",
       "      <th>truncated</th>\n",
       "      <th>source</th>\n",
       "      <th>in_reply_to_status_id</th>\n",
       "      <th>in_reply_to_status_id_str</th>\n",
       "      <th>in_reply_to_user_id</th>\n",
       "      <th>...</th>\n",
       "      <th>quoted_status.place.id</th>\n",
       "      <th>quoted_status.place.url</th>\n",
       "      <th>quoted_status.place.place_type</th>\n",
       "      <th>quoted_status.place.name</th>\n",
       "      <th>quoted_status.place.full_name</th>\n",
       "      <th>quoted_status.place.country_code</th>\n",
       "      <th>quoted_status.place.country</th>\n",
       "      <th>quoted_status.place.contained_within</th>\n",
       "      <th>quoted_status.place.bounding_box.type</th>\n",
       "      <th>quoted_status.place.bounding_box.coordinates</th>\n",
       "    </tr>\n",
       "  </thead>\n",
       "  <tbody>\n",
       "    <tr>\n",
       "      <th>0</th>\n",
       "      <td>0</td>\n",
       "      <td>Wed May 18 15:10:30 +0000 2022</td>\n",
       "      <td>1526943314691477505</td>\n",
       "      <td>1526943314691477505</td>\n",
       "      <td>RT @MLGDan23: NFT NYC!!! LQG!!!! @TribeQuokka ...</td>\n",
       "      <td>False</td>\n",
       "      <td>&lt;a href=\"http://twitter.com/download/android\" ...</td>\n",
       "      <td>NaN</td>\n",
       "      <td>NaN</td>\n",
       "      <td>NaN</td>\n",
       "      <td>...</td>\n",
       "      <td>NaN</td>\n",
       "      <td>NaN</td>\n",
       "      <td>NaN</td>\n",
       "      <td>NaN</td>\n",
       "      <td>NaN</td>\n",
       "      <td>NaN</td>\n",
       "      <td>NaN</td>\n",
       "      <td>NaN</td>\n",
       "      <td>NaN</td>\n",
       "      <td>NaN</td>\n",
       "    </tr>\n",
       "    <tr>\n",
       "      <th>1</th>\n",
       "      <td>1</td>\n",
       "      <td>Wed May 18 15:09:40 +0000 2022</td>\n",
       "      <td>1526943108339888128</td>\n",
       "      <td>1526943108339888128</td>\n",
       "      <td>sophie_millerst https://t.co/zzJScjs5ZA 18+ #B...</td>\n",
       "      <td>False</td>\n",
       "      <td>&lt;a href=\"https://dlvrit.com/\" rel=\"nofollow\"&gt;d...</td>\n",
       "      <td>NaN</td>\n",
       "      <td>NaN</td>\n",
       "      <td>NaN</td>\n",
       "      <td>...</td>\n",
       "      <td>NaN</td>\n",
       "      <td>NaN</td>\n",
       "      <td>NaN</td>\n",
       "      <td>NaN</td>\n",
       "      <td>NaN</td>\n",
       "      <td>NaN</td>\n",
       "      <td>NaN</td>\n",
       "      <td>NaN</td>\n",
       "      <td>NaN</td>\n",
       "      <td>NaN</td>\n",
       "    </tr>\n",
       "    <tr>\n",
       "      <th>2</th>\n",
       "      <td>2</td>\n",
       "      <td>Wed May 18 15:07:10 +0000 2022</td>\n",
       "      <td>1526942477499789312</td>\n",
       "      <td>1526942477499789312</td>\n",
       "      <td>Mit #Lending von #Axie Infinity (#AXS) auf #ku...</td>\n",
       "      <td>True</td>\n",
       "      <td>&lt;a href=\"http://mk85.de\" rel=\"nofollow\"&gt;John W...</td>\n",
       "      <td>NaN</td>\n",
       "      <td>NaN</td>\n",
       "      <td>NaN</td>\n",
       "      <td>...</td>\n",
       "      <td>NaN</td>\n",
       "      <td>NaN</td>\n",
       "      <td>NaN</td>\n",
       "      <td>NaN</td>\n",
       "      <td>NaN</td>\n",
       "      <td>NaN</td>\n",
       "      <td>NaN</td>\n",
       "      <td>NaN</td>\n",
       "      <td>NaN</td>\n",
       "      <td>NaN</td>\n",
       "    </tr>\n",
       "    <tr>\n",
       "      <th>3</th>\n",
       "      <td>3</td>\n",
       "      <td>Wed May 18 15:04:56 +0000 2022</td>\n",
       "      <td>1526941915471544321</td>\n",
       "      <td>1526941915471544321</td>\n",
       "      <td>RT @chris40004: Neue wöchentliche Umfrage mit ...</td>\n",
       "      <td>False</td>\n",
       "      <td>&lt;a href=\"http://twitter.com/download/iphone\" r...</td>\n",
       "      <td>NaN</td>\n",
       "      <td>NaN</td>\n",
       "      <td>NaN</td>\n",
       "      <td>...</td>\n",
       "      <td>NaN</td>\n",
       "      <td>NaN</td>\n",
       "      <td>NaN</td>\n",
       "      <td>NaN</td>\n",
       "      <td>NaN</td>\n",
       "      <td>NaN</td>\n",
       "      <td>NaN</td>\n",
       "      <td>NaN</td>\n",
       "      <td>NaN</td>\n",
       "      <td>NaN</td>\n",
       "    </tr>\n",
       "    <tr>\n",
       "      <th>4</th>\n",
       "      <td>4</td>\n",
       "      <td>Wed May 18 15:02:11 +0000 2022</td>\n",
       "      <td>1526941224560742400</td>\n",
       "      <td>1526941224560742400</td>\n",
       "      <td>RT @dogefathereco: Auch... 😢\\n\\n#memecoin #lun...</td>\n",
       "      <td>False</td>\n",
       "      <td>&lt;a href=\"http://twitter.com/download/android\" ...</td>\n",
       "      <td>NaN</td>\n",
       "      <td>NaN</td>\n",
       "      <td>NaN</td>\n",
       "      <td>...</td>\n",
       "      <td>NaN</td>\n",
       "      <td>NaN</td>\n",
       "      <td>NaN</td>\n",
       "      <td>NaN</td>\n",
       "      <td>NaN</td>\n",
       "      <td>NaN</td>\n",
       "      <td>NaN</td>\n",
       "      <td>NaN</td>\n",
       "      <td>NaN</td>\n",
       "      <td>NaN</td>\n",
       "    </tr>\n",
       "  </tbody>\n",
       "</table>\n",
       "<p>5 rows × 325 columns</p>\n",
       "</div>"
      ],
      "text/plain": [
       "  Unnamed: 0                      created_at                   id  \\\n",
       "0          0  Wed May 18 15:10:30 +0000 2022  1526943314691477505   \n",
       "1          1  Wed May 18 15:09:40 +0000 2022  1526943108339888128   \n",
       "2          2  Wed May 18 15:07:10 +0000 2022  1526942477499789312   \n",
       "3          3  Wed May 18 15:04:56 +0000 2022  1526941915471544321   \n",
       "4          4  Wed May 18 15:02:11 +0000 2022  1526941224560742400   \n",
       "\n",
       "                id_str                                               text  \\\n",
       "0  1526943314691477505  RT @MLGDan23: NFT NYC!!! LQG!!!! @TribeQuokka ...   \n",
       "1  1526943108339888128  sophie_millerst https://t.co/zzJScjs5ZA 18+ #B...   \n",
       "2  1526942477499789312  Mit #Lending von #Axie Infinity (#AXS) auf #ku...   \n",
       "3  1526941915471544321  RT @chris40004: Neue wöchentliche Umfrage mit ...   \n",
       "4  1526941224560742400  RT @dogefathereco: Auch... 😢\\n\\n#memecoin #lun...   \n",
       "\n",
       "  truncated                                             source  \\\n",
       "0     False  <a href=\"http://twitter.com/download/android\" ...   \n",
       "1     False  <a href=\"https://dlvrit.com/\" rel=\"nofollow\">d...   \n",
       "2      True  <a href=\"http://mk85.de\" rel=\"nofollow\">John W...   \n",
       "3     False  <a href=\"http://twitter.com/download/iphone\" r...   \n",
       "4     False  <a href=\"http://twitter.com/download/android\" ...   \n",
       "\n",
       "  in_reply_to_status_id in_reply_to_status_id_str in_reply_to_user_id  ...  \\\n",
       "0                   NaN                       NaN                 NaN  ...   \n",
       "1                   NaN                       NaN                 NaN  ...   \n",
       "2                   NaN                       NaN                 NaN  ...   \n",
       "3                   NaN                       NaN                 NaN  ...   \n",
       "4                   NaN                       NaN                 NaN  ...   \n",
       "\n",
       "  quoted_status.place.id quoted_status.place.url  \\\n",
       "0                    NaN                     NaN   \n",
       "1                    NaN                     NaN   \n",
       "2                    NaN                     NaN   \n",
       "3                    NaN                     NaN   \n",
       "4                    NaN                     NaN   \n",
       "\n",
       "  quoted_status.place.place_type quoted_status.place.name  \\\n",
       "0                            NaN                      NaN   \n",
       "1                            NaN                      NaN   \n",
       "2                            NaN                      NaN   \n",
       "3                            NaN                      NaN   \n",
       "4                            NaN                      NaN   \n",
       "\n",
       "  quoted_status.place.full_name quoted_status.place.country_code  \\\n",
       "0                           NaN                              NaN   \n",
       "1                           NaN                              NaN   \n",
       "2                           NaN                              NaN   \n",
       "3                           NaN                              NaN   \n",
       "4                           NaN                              NaN   \n",
       "\n",
       "  quoted_status.place.country quoted_status.place.contained_within  \\\n",
       "0                         NaN                                  NaN   \n",
       "1                         NaN                                  NaN   \n",
       "2                         NaN                                  NaN   \n",
       "3                         NaN                                  NaN   \n",
       "4                         NaN                                  NaN   \n",
       "\n",
       "  quoted_status.place.bounding_box.type  \\\n",
       "0                                   NaN   \n",
       "1                                   NaN   \n",
       "2                                   NaN   \n",
       "3                                   NaN   \n",
       "4                                   NaN   \n",
       "\n",
       "  quoted_status.place.bounding_box.coordinates  \n",
       "0                                          NaN  \n",
       "1                                          NaN  \n",
       "2                                          NaN  \n",
       "3                                          NaN  \n",
       "4                                          NaN  \n",
       "\n",
       "[5 rows x 325 columns]"
      ]
     },
     "execution_count": 3,
     "metadata": {},
     "output_type": "execute_result"
    }
   ],
   "source": [
    "df.head()"
   ]
  },
  {
   "cell_type": "code",
   "execution_count": 5,
   "id": "32d4b8ae-f301-4774-ab1a-80b7d0223c1c",
   "metadata": {},
   "outputs": [
    {
     "data": {
      "text/plain": [
       "(300, 325)"
      ]
     },
     "execution_count": 5,
     "metadata": {},
     "output_type": "execute_result"
    }
   ],
   "source": [
    "df.shape"
   ]
  },
  {
   "cell_type": "code",
   "execution_count": null,
   "id": "f63f7157-262a-4bf8-a2ce-95374d6541e7",
   "metadata": {},
   "outputs": [],
   "source": [
    "#list(df.columns)"
   ]
  },
  {
   "cell_type": "markdown",
   "id": "95583c19-49e0-43fe-b112-4d936a04afe0",
   "metadata": {},
   "source": [
    "Nodes:\n",
    "\n",
    "        User nodes – represents a Twitter user (handle and number of followers)\n",
    "        Tweet nodes – represent a tweet (text, number of likes)\n",
    "        Hashtag nodes – represent a hashtag\n",
    "        Country nodes – represent a country (country name, country code)\n",
    "        Device nodes – represent a device\n",
    "\n",
    "Relationships:\n",
    "\n",
    "        TWEETED relationship – in between a User and a Tweet; indicates that this user is the author of the tweet; also indicates the date at which it was tweeted\n",
    "        RETWEETED relationship – in between a User and a User; indicates this user retweeted this tweet; also indicates the date at which it was retweeted\n",
    "        USED_HASHTAG relationship – in between a User and a Hashtag\n",
    "        MENTIONED relationship – in between two Users\n",
    "        FROM relation – in between a User and a Country\n",
    "        USED relationship - in between a User and a Source Device\n"
   ]
  },
  {
   "cell_type": "code",
   "execution_count": 5,
   "id": "14248c48-8261-4b0e-a317-84ae3057e067",
   "metadata": {},
   "outputs": [
    {
     "data": {
      "text/plain": [
       "dtype('O')"
      ]
     },
     "execution_count": 5,
     "metadata": {},
     "output_type": "execute_result"
    }
   ],
   "source": [
    "df['retweeted_status.user.id_str'].dtypes"
   ]
  },
  {
   "cell_type": "markdown",
   "id": "6200f80e-b986-40c0-9b95-e1ceba3e02b0",
   "metadata": {},
   "source": [
    "Extract Hashtags"
   ]
  },
  {
   "cell_type": "code",
   "execution_count": 6,
   "id": "2eca032e-0fb6-4b17-b1b5-51a19319fbea",
   "metadata": {},
   "outputs": [],
   "source": [
    "import json\n",
    "hashtags = []\n",
    "for i in range(len(df)):\n",
    "    tmps = json.loads(df['entities.hashtags'][i].replace(\"'\",'\"'))\n",
    "    for c in range(len(tmps)):\n",
    "        hashtags.append(tmps[c]['text'])\n",
    "hashtags = set(hashtags)"
   ]
  },
  {
   "cell_type": "markdown",
   "id": "90f03814-2fb7-466c-883d-a670cc5afe37",
   "metadata": {},
   "source": [
    "Extract User"
   ]
  },
  {
   "cell_type": "code",
   "execution_count": 7,
   "id": "6b0ee240-5a87-4c1c-ad43-80e8299c1299",
   "metadata": {},
   "outputs": [],
   "source": [
    "user_col = [col for col in df if col.startswith('user.')]\n",
    "user = df[user_col].copy()\n",
    "user.drop_duplicates(inplace=True)"
   ]
  },
  {
   "cell_type": "code",
   "execution_count": 8,
   "id": "ae88476e-00b4-4eda-b7b5-3d77a18faa15",
   "metadata": {},
   "outputs": [
    {
     "name": "stderr",
     "output_type": "stream",
     "text": [
      "/tmp/ipykernel_94208/3256792357.py:4: FutureWarning: The default value of regex will change from True to False in a future version.\n",
      "  quoted_user.columns=quoted_user.columns.str.replace(\"quoted_status.\", \"\")\n"
     ]
    }
   ],
   "source": [
    "quoted_user_col = [col for col in df if col.startswith('quoted_status.user.')]\n",
    "quoted_user = df[quoted_user_col].copy()\n",
    "quoted_user.drop_duplicates(inplace=True)\n",
    "quoted_user.columns=quoted_user.columns.str.replace(\"quoted_status.\", \"\")"
   ]
  },
  {
   "cell_type": "code",
   "execution_count": 9,
   "id": "380d4c86-215b-42f5-8068-f419991ea210",
   "metadata": {},
   "outputs": [
    {
     "name": "stderr",
     "output_type": "stream",
     "text": [
      "/tmp/ipykernel_94208/557703801.py:4: FutureWarning: The default value of regex will change from True to False in a future version.\n",
      "  retweeted_user.columns=retweeted_user.columns.str.replace(\"retweeted_status.\", \"\")\n"
     ]
    }
   ],
   "source": [
    "retweeted_user_col = [col for col in df if col.startswith('retweeted_status.user.')]\n",
    "retweeted_user = df[retweeted_user_col].copy()\n",
    "retweeted_user.drop_duplicates(inplace=True)\n",
    "retweeted_user.columns=retweeted_user.columns.str.replace(\"retweeted_status.\", \"\")"
   ]
  },
  {
   "cell_type": "markdown",
   "id": "65f10721-d5a3-4b13-ac86-c30bc6a273d8",
   "metadata": {},
   "source": [
    "Sources"
   ]
  },
  {
   "cell_type": "code",
   "execution_count": 11,
   "id": "082643ff-b8c8-4f07-8b8c-5525615e2cf9",
   "metadata": {},
   "outputs": [],
   "source": [
    "import re\n",
    "df['source_clean'] = df['source'].apply(lambda x: re.sub('<[^<]+?>', '', x))\n",
    "sources = set(df['source_clean'])"
   ]
  },
  {
   "cell_type": "markdown",
   "id": "b3f4a061-9a80-44c6-aa56-daad93e54817",
   "metadata": {},
   "source": [
    "Locations"
   ]
  },
  {
   "cell_type": "markdown",
   "id": "a7e9ef31-7ac6-4090-be29-73de34418f60",
   "metadata": {},
   "source": [
    "Create Nodes"
   ]
  },
  {
   "cell_type": "code",
   "execution_count": 12,
   "id": "a9efb427-0f5d-4c05-a86a-7f672e685d03",
   "metadata": {},
   "outputs": [],
   "source": [
    "from py2neo import Graph, Node, Relationship, NodeMatcher\n",
    "graph = Graph(\"http://localhost:7474\", password=\"1710\")\n",
    "graph.delete_all()"
   ]
  },
  {
   "cell_type": "code",
   "execution_count": 13,
   "id": "b234e846-18f9-4e27-9c5b-e06ea8e60f04",
   "metadata": {},
   "outputs": [],
   "source": [
    "for line in sources:\n",
    "    node = Node(\"Device\", source=line)\n",
    "    graph.create(node)"
   ]
  },
  {
   "cell_type": "code",
   "execution_count": 14,
   "id": "367ebc9f-274b-4ae2-87b3-dbd40e2f1ca4",
   "metadata": {},
   "outputs": [],
   "source": [
    "for line in hashtags:\n",
    "    node = Node(\"Hashtag\", hashtag=line)\n",
    "    graph.create(node)"
   ]
  },
  {
   "cell_type": "markdown",
   "id": "aa7eecdb-348e-49d7-82ad-8c544d078bab",
   "metadata": {},
   "source": [
    "User Nodes"
   ]
  },
  {
   "cell_type": "code",
   "execution_count": 15,
   "id": "ed30d8c3-ed2e-497e-9d2d-44a117e7c779",
   "metadata": {},
   "outputs": [],
   "source": [
    "df_all_user = pd.concat([user, quoted_user, retweeted_user]).drop_duplicates(subset=['user.id'])"
   ]
  },
  {
   "cell_type": "code",
   "execution_count": 16,
   "id": "454232a5-4765-4c5b-9e46-d5c2fbe841f7",
   "metadata": {},
   "outputs": [],
   "source": [
    "locations = set(df_all_user['user.location'].fillna('na'))\n",
    "for line in locations:\n",
    "    node = Node(\"Location\", location=line)\n",
    "    graph.create(node)"
   ]
  },
  {
   "cell_type": "code",
   "execution_count": 17,
   "id": "f62a96fc-3175-4d8f-aa4e-5680c0412416",
   "metadata": {},
   "outputs": [],
   "source": [
    "matcher = NodeMatcher(graph)\n",
    "for i in range(len(df_all_user)):\n",
    "    line = df_all_user.iloc[i].fillna('na')\n",
    "    id = line['user.id_str']\n",
    "    name = line['user.screen_name']\n",
    "    created = line['user.created_at']\n",
    "    followers = line['user.followers_count']\n",
    "    node = Node(\"User\", id=id, name=name, created=created, followers=followers)\n",
    "    node.add_label(\"User\")\n",
    "    graph.create(node)\n",
    "    # originates from\n",
    "    if line['user.location'] != 'na':\n",
    "        location = matcher.match(\"Location\", location=line['user.location']).first()\n",
    "        rel = Relationship(node, \"originates_from\", location)\n",
    "        graph.create(rel)"
   ]
  },
  {
   "cell_type": "markdown",
   "id": "9feb9fb6-d5ca-4f7e-b787-f25670b5ed0d",
   "metadata": {},
   "source": [
    "Tweet Nodes"
   ]
  },
  {
   "cell_type": "code",
   "execution_count": 18,
   "id": "f08c5bd2-3445-40d1-95b7-f51fb662f425",
   "metadata": {},
   "outputs": [
    {
     "name": "stdout",
     "output_type": "stream",
     "text": [
      "Cannot parse [{'screen_name': 'ZedOne16', 'name': \"Camper's Diary\", 'id': 1054992154039386112, 'id_str': '1054992154039386112', 'indices': [3, 12]}]\n"
     ]
    }
   ],
   "source": [
    "for i in range(len(df)):\n",
    "    line = df.iloc[i].fillna('na')\n",
    "    id = line['id_str']\n",
    "    text = line['text']\n",
    "    created = line['created_at']\n",
    "    node = Node(\"Tweet\", id=id, text=text, created=created)\n",
    "    graph.create(node)\n",
    "    # tweeted relationship\n",
    "    user_node = matcher.match(\"User\", id = line['user.id_str']).first()\n",
    "    rel = Relationship(user_node, \"tweeted\", node)\n",
    "    graph.create(rel)\n",
    "    # uses device\n",
    "    device = matcher.match(\"Device\", source=line['source_clean']).first()\n",
    "    rel = Relationship(user_node, \"uses\", device)\n",
    "    graph.create(rel)\n",
    "    # retweeted relationship\n",
    "    if line['retweeted_status.user.id_str'] != 'na':\n",
    "        retweeted_user = matcher.match(\"User\", id=line['retweeted_status.user.id_str']).first()\n",
    "        rel = Relationship(user_node, \"retweeted\", retweeted_user)\n",
    "        graph.create(rel)\n",
    "    # quoted relationship\n",
    "    if line['quoted_status.user.id_str'] != 'na':\n",
    "        quoted_user = matcher.match(\"User\", id=line['quoted_status.user.id_str']).first()\n",
    "        rel = Relationship(user_node, \"quoted\", quoted_user)\n",
    "        graph.create(rel)\n",
    "    # used_hashtag\n",
    "    tmps = json.loads(line['entities.hashtags'].replace(\"'\",'\"'))\n",
    "    for tmp in tmps:\n",
    "        hashtag = matcher.match(\"Hashtag\", hashtag=tmp['text']).first()\n",
    "        rel = Relationship(user_node, \"used_hashtag\", hashtag)\n",
    "        graph.create(rel)\n",
    "    # mentions\n",
    "    try:\n",
    "        tmps = json.loads(line['entities.user_mentions'].replace(\"'\",'\"'))\n",
    "        for tmp in tmps:\n",
    "            user = matcher.match(\"User\", id=tmp['id_str']).first()\n",
    "            if not user:\n",
    "                user = Node(\"User\", id=tmp['id_str'], name=tmp['screen_name'])\n",
    "                graph.create(user)\n",
    "            rel = Relationship(user_node, \"mentioned\", user)\n",
    "            graph.create(rel)\n",
    "    except:\n",
    "        print(f\"Cannot parse {line['entities.user_mentions']}\")\n",
    "\n",
    " "
   ]
  },
  {
   "cell_type": "code",
   "execution_count": 19,
   "id": "c22a190a-48b5-4895-86f4-fa0f7d61e3db",
   "metadata": {},
   "outputs": [
    {
     "data": {
      "text/plain": [
       "'/home/pierre/fakenews'"
      ]
     },
     "execution_count": 19,
     "metadata": {},
     "output_type": "execute_result"
    }
   ],
   "source": [
    "import os\n",
    "os.getcwd()"
   ]
  },
  {
   "cell_type": "code",
   "execution_count": 23,
   "id": "43e2f7df-6dac-49b7-810c-f45700a60963",
   "metadata": {},
   "outputs": [
    {
     "data": {
      "text/plain": [
       "['test.csv', 'crypto.csv', 'ukraine.csv', 'impfung.csv', '_apple.csv']"
      ]
     },
     "execution_count": 24,
     "metadata": {},
     "output_type": "execute_result"
    }
   ],
   "source": [
    "files =[file for file in os.listdir(\"../\") if '.csv' in file]\n",
    "files"
   ]
  }
 ],
 "metadata": {
  "kernelspec": {
   "display_name": "Python 3 (ipykernel)",
   "language": "python",
   "name": "python3"
  },
  "language_info": {
   "codemirror_mode": {
    "name": "ipython",
    "version": 3
   },
   "file_extension": ".py",
   "mimetype": "text/x-python",
   "name": "python",
   "nbconvert_exporter": "python",
   "pygments_lexer": "ipython3",
   "version": "3.10.4"
  }
 },
 "nbformat": 4,
 "nbformat_minor": 5
}
